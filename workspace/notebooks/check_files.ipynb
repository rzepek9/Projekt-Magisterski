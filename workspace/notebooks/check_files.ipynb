{
 "cells": [
  {
   "cell_type": "code",
   "execution_count": 13,
   "id": "b12874b0",
   "metadata": {},
   "outputs": [],
   "source": [
    "import os\n",
    "from pathlib import Path\n",
    "import shutil\n",
    "import pandas as pd\n",
    "import json"
   ]
  },
  {
   "cell_type": "code",
   "execution_count": 3,
   "id": "9887a3bc",
   "metadata": {},
   "outputs": [],
   "source": [
    "database = pd.read_csv('/home/s175668/raid/Praca-Magisterska/dataset/database.csv')"
   ]
  },
  {
   "cell_type": "code",
   "execution_count": 8,
   "id": "39b95dad",
   "metadata": {},
   "outputs": [
    {
     "data": {
      "text/html": [
       "<div>\n",
       "<style scoped>\n",
       "    .dataframe tbody tr th:only-of-type {\n",
       "        vertical-align: middle;\n",
       "    }\n",
       "\n",
       "    .dataframe tbody tr th {\n",
       "        vertical-align: top;\n",
       "    }\n",
       "\n",
       "    .dataframe thead th {\n",
       "        text-align: right;\n",
       "    }\n",
       "</style>\n",
       "<table border=\"1\" class=\"dataframe\">\n",
       "  <thead>\n",
       "    <tr style=\"text-align: right;\">\n",
       "      <th></th>\n",
       "      <th>file</th>\n",
       "      <th>shoter</th>\n",
       "      <th>camera</th>\n",
       "      <th>made</th>\n",
       "      <th>clean</th>\n",
       "      <th>skill</th>\n",
       "    </tr>\n",
       "  </thead>\n",
       "  <tbody>\n",
       "    <tr>\n",
       "      <th>0</th>\n",
       "      <td>0001_krystian_under_1</td>\n",
       "      <td>krystian</td>\n",
       "      <td>under</td>\n",
       "      <td>1</td>\n",
       "      <td>1</td>\n",
       "      <td>2</td>\n",
       "    </tr>\n",
       "    <tr>\n",
       "      <th>1</th>\n",
       "      <td>0001_krystian_side_1</td>\n",
       "      <td>krystian</td>\n",
       "      <td>side</td>\n",
       "      <td>1</td>\n",
       "      <td>1</td>\n",
       "      <td>2</td>\n",
       "    </tr>\n",
       "    <tr>\n",
       "      <th>2</th>\n",
       "      <td>0002_krystian_under_1</td>\n",
       "      <td>krystian</td>\n",
       "      <td>under</td>\n",
       "      <td>1</td>\n",
       "      <td>1</td>\n",
       "      <td>2</td>\n",
       "    </tr>\n",
       "    <tr>\n",
       "      <th>3</th>\n",
       "      <td>0002_krystian_side_1</td>\n",
       "      <td>krystian</td>\n",
       "      <td>side</td>\n",
       "      <td>1</td>\n",
       "      <td>1</td>\n",
       "      <td>2</td>\n",
       "    </tr>\n",
       "    <tr>\n",
       "      <th>4</th>\n",
       "      <td>0003_krystian_under_1</td>\n",
       "      <td>krystian</td>\n",
       "      <td>under</td>\n",
       "      <td>1</td>\n",
       "      <td>1</td>\n",
       "      <td>2</td>\n",
       "    </tr>\n",
       "    <tr>\n",
       "      <th>...</th>\n",
       "      <td>...</td>\n",
       "      <td>...</td>\n",
       "      <td>...</td>\n",
       "      <td>...</td>\n",
       "      <td>...</td>\n",
       "      <td>...</td>\n",
       "    </tr>\n",
       "    <tr>\n",
       "      <th>9045</th>\n",
       "      <td>4523_kuba_side_1</td>\n",
       "      <td>kuba</td>\n",
       "      <td>side</td>\n",
       "      <td>1</td>\n",
       "      <td>1</td>\n",
       "      <td>1</td>\n",
       "    </tr>\n",
       "    <tr>\n",
       "      <th>9046</th>\n",
       "      <td>4524_gustaw_under_0</td>\n",
       "      <td>gustaw</td>\n",
       "      <td>under</td>\n",
       "      <td>0</td>\n",
       "      <td>0</td>\n",
       "      <td>0</td>\n",
       "    </tr>\n",
       "    <tr>\n",
       "      <th>9047</th>\n",
       "      <td>4524_gustaw_side_0</td>\n",
       "      <td>gustaw</td>\n",
       "      <td>side</td>\n",
       "      <td>0</td>\n",
       "      <td>0</td>\n",
       "      <td>0</td>\n",
       "    </tr>\n",
       "    <tr>\n",
       "      <th>9048</th>\n",
       "      <td>4525_kuba_under_0</td>\n",
       "      <td>kuba</td>\n",
       "      <td>under</td>\n",
       "      <td>0</td>\n",
       "      <td>0</td>\n",
       "      <td>1</td>\n",
       "    </tr>\n",
       "    <tr>\n",
       "      <th>9049</th>\n",
       "      <td>4525_kuba_side_0</td>\n",
       "      <td>kuba</td>\n",
       "      <td>side</td>\n",
       "      <td>0</td>\n",
       "      <td>0</td>\n",
       "      <td>1</td>\n",
       "    </tr>\n",
       "  </tbody>\n",
       "</table>\n",
       "<p>9050 rows × 6 columns</p>\n",
       "</div>"
      ],
      "text/plain": [
       "                       file    shoter camera  made  clean  skill\n",
       "0     0001_krystian_under_1  krystian  under     1      1      2\n",
       "1      0001_krystian_side_1  krystian   side     1      1      2\n",
       "2     0002_krystian_under_1  krystian  under     1      1      2\n",
       "3      0002_krystian_side_1  krystian   side     1      1      2\n",
       "4     0003_krystian_under_1  krystian  under     1      1      2\n",
       "...                     ...       ...    ...   ...    ...    ...\n",
       "9045       4523_kuba_side_1      kuba   side     1      1      1\n",
       "9046    4524_gustaw_under_0    gustaw  under     0      0      0\n",
       "9047     4524_gustaw_side_0    gustaw   side     0      0      0\n",
       "9048      4525_kuba_under_0      kuba  under     0      0      1\n",
       "9049       4525_kuba_side_0      kuba   side     0      0      1\n",
       "\n",
       "[9050 rows x 6 columns]"
      ]
     },
     "execution_count": 8,
     "metadata": {},
     "output_type": "execute_result"
    }
   ],
   "source": [
    "database"
   ]
  },
  {
   "cell_type": "code",
   "execution_count": 18,
   "id": "0003ac0c",
   "metadata": {},
   "outputs": [
    {
     "name": "stdout",
     "output_type": "stream",
     "text": [
      "/home/s175668/raid/Praca-Magisterska/dataset/pose2d/side/2254_krystian_side_1.json\n",
      "/home/s175668/raid/Praca-Magisterska/dataset/pose2d/side/2950_kuba_side_0.json\n",
      "/home/s175668/raid/Praca-Magisterska/dataset/pose2d/under/3678_krystian_under_0.json\n"
     ]
    }
   ],
   "source": [
    "path_3d = Path('/home/s175668/raid/Praca-Magisterska/dataset/pose3d/')\n",
    "path_2d = Path('/home/s175668/raid/Praca-Magisterska/dataset/pose2d/')\n",
    "for _, row in database.iterrows():\n",
    "    json_3d = path_3d / row.camera / f'{row.file}.json'\n",
    "    json_2d_p = path_2d / row.camera / f'{row.file}.json'\n",
    "    \n",
    "    with open(json_2d_p) as f:\n",
    "        json_2d = json.load(f)\n",
    "    \n",
    "    if json_2d[-1]['frame_id'] < 17:\n",
    "        print(json_2d_p)\n",
    "\n",
    "    \n",
    "    "
   ]
  },
  {
   "cell_type": "code",
   "execution_count": 47,
   "id": "fc79323f",
   "metadata": {},
   "outputs": [],
   "source": [
    "\n",
    "for file in files:\n",
    "    file_name = str(file).rsplit('/', 1)[-1]\n",
    "    shutil.move(file, file.parent.parent / 'under' / file_name)"
   ]
  },
  {
   "cell_type": "code",
   "execution_count": 17,
   "id": "6265e77e",
   "metadata": {},
   "outputs": [
    {
     "data": {
      "text/plain": [
       "17"
      ]
     },
     "execution_count": 17,
     "metadata": {},
     "output_type": "execute_result"
    }
   ],
   "source": [
    "json_2d[-1]['frame_id']"
   ]
  },
  {
   "cell_type": "code",
   "execution_count": null,
   "id": "d96ed885",
   "metadata": {},
   "outputs": [],
   "source": []
  }
 ],
 "metadata": {
  "kernelspec": {
   "display_name": "Python 3 (ipykernel)",
   "language": "python",
   "name": "python3"
  },
  "language_info": {
   "codemirror_mode": {
    "name": "ipython",
    "version": 3
   },
   "file_extension": ".py",
   "mimetype": "text/x-python",
   "name": "python",
   "nbconvert_exporter": "python",
   "pygments_lexer": "ipython3",
   "version": "3.8.10"
  }
 },
 "nbformat": 4,
 "nbformat_minor": 5
}
