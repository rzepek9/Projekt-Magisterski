{
 "cells": [
  {
   "cell_type": "code",
   "execution_count": 1,
   "id": "06e7d665",
   "metadata": {},
   "outputs": [],
   "source": [
    "import pandas as pd\n",
    "from pathlib import Path\n",
    "import numpy as np"
   ]
  },
  {
   "cell_type": "code",
   "execution_count": null,
   "id": "9c6ed4c0",
   "metadata": {},
   "outputs": [],
   "source": [
    "database_path = Path('/home/s175668/raid/Praca-Magisterska/dataset/pose3d/under/')\n",
    "json_files = database_path.glob('*.json')"
   ]
  },
  {
   "cell_type": "code",
   "execution_count": null,
   "id": "84669e6d",
   "metadata": {},
   "outputs": [],
   "source": [
    "files = []\n",
    "for file in json_files:\n",
    "    file_name = str(file).rsplit('/', 1)[-1]\n",
    "    camera = str(file).rsplit('_', 2)[-2]\n",
    "    label = int(file_name[-6])\n",
    "    shoter = str(file).split('_', 2)[1]\n",
    "    if int(file_name.split('_')[0]) in [574, 682, 1307, 1341]:\n",
    "        continue\n",
    "    files.append([file_name, shoter, camera, label])\n",
    "    "
   ]
  },
  {
   "cell_type": "code",
   "execution_count": 4,
   "id": "0a7f557e",
   "metadata": {},
   "outputs": [],
   "source": [
    "df = pd.DataFrame(files, columns=['name', 'shoter', 'camera', 'label'])"
   ]
  },
  {
   "cell_type": "code",
   "execution_count": 13,
   "id": "290d70bc",
   "metadata": {},
   "outputs": [
    {
     "data": {
      "text/html": [
       "<div>\n",
       "<style scoped>\n",
       "    .dataframe tbody tr th:only-of-type {\n",
       "        vertical-align: middle;\n",
       "    }\n",
       "\n",
       "    .dataframe tbody tr th {\n",
       "        vertical-align: top;\n",
       "    }\n",
       "\n",
       "    .dataframe thead th {\n",
       "        text-align: right;\n",
       "    }\n",
       "</style>\n",
       "<table border=\"1\" class=\"dataframe\">\n",
       "  <thead>\n",
       "    <tr style=\"text-align: right;\">\n",
       "      <th></th>\n",
       "      <th>name</th>\n",
       "      <th>shoter</th>\n",
       "      <th>camera</th>\n",
       "      <th>label</th>\n",
       "    </tr>\n",
       "  </thead>\n",
       "  <tbody>\n",
       "    <tr>\n",
       "      <th>0</th>\n",
       "      <td>0887_adam_under_0.json</td>\n",
       "      <td>adam</td>\n",
       "      <td>under</td>\n",
       "      <td>0</td>\n",
       "    </tr>\n",
       "    <tr>\n",
       "      <th>1</th>\n",
       "      <td>1453_adam_under_1.json</td>\n",
       "      <td>adam</td>\n",
       "      <td>under</td>\n",
       "      <td>1</td>\n",
       "    </tr>\n",
       "    <tr>\n",
       "      <th>2</th>\n",
       "      <td>0729_adam_under_0.json</td>\n",
       "      <td>adam</td>\n",
       "      <td>under</td>\n",
       "      <td>0</td>\n",
       "    </tr>\n",
       "    <tr>\n",
       "      <th>3</th>\n",
       "      <td>1500_kuba_under_0.json</td>\n",
       "      <td>kuba</td>\n",
       "      <td>under</td>\n",
       "      <td>0</td>\n",
       "    </tr>\n",
       "    <tr>\n",
       "      <th>4</th>\n",
       "      <td>0689_adam_under_0.json</td>\n",
       "      <td>adam</td>\n",
       "      <td>under</td>\n",
       "      <td>0</td>\n",
       "    </tr>\n",
       "    <tr>\n",
       "      <th>...</th>\n",
       "      <td>...</td>\n",
       "      <td>...</td>\n",
       "      <td>...</td>\n",
       "      <td>...</td>\n",
       "    </tr>\n",
       "    <tr>\n",
       "      <th>1918</th>\n",
       "      <td>1061_adam_under_1.json</td>\n",
       "      <td>adam</td>\n",
       "      <td>under</td>\n",
       "      <td>1</td>\n",
       "    </tr>\n",
       "    <tr>\n",
       "      <th>1919</th>\n",
       "      <td>0961_adam_under_1.json</td>\n",
       "      <td>adam</td>\n",
       "      <td>under</td>\n",
       "      <td>1</td>\n",
       "    </tr>\n",
       "    <tr>\n",
       "      <th>1920</th>\n",
       "      <td>0058_krystian_skill_under_1.json</td>\n",
       "      <td>krystian</td>\n",
       "      <td>under</td>\n",
       "      <td>1</td>\n",
       "    </tr>\n",
       "    <tr>\n",
       "      <th>1921</th>\n",
       "      <td>1047_adam_under_0.json</td>\n",
       "      <td>adam</td>\n",
       "      <td>under</td>\n",
       "      <td>0</td>\n",
       "    </tr>\n",
       "    <tr>\n",
       "      <th>1922</th>\n",
       "      <td>1555_kuba_under_1.json</td>\n",
       "      <td>kuba</td>\n",
       "      <td>under</td>\n",
       "      <td>1</td>\n",
       "    </tr>\n",
       "  </tbody>\n",
       "</table>\n",
       "<p>1923 rows × 4 columns</p>\n",
       "</div>"
      ],
      "text/plain": [
       "                                  name    shoter camera  label\n",
       "0               0887_adam_under_0.json      adam  under      0\n",
       "1               1453_adam_under_1.json      adam  under      1\n",
       "2               0729_adam_under_0.json      adam  under      0\n",
       "3               1500_kuba_under_0.json      kuba  under      0\n",
       "4               0689_adam_under_0.json      adam  under      0\n",
       "...                                ...       ...    ...    ...\n",
       "1918            1061_adam_under_1.json      adam  under      1\n",
       "1919            0961_adam_under_1.json      adam  under      1\n",
       "1920  0058_krystian_skill_under_1.json  krystian  under      1\n",
       "1921            1047_adam_under_0.json      adam  under      0\n",
       "1922            1555_kuba_under_1.json      kuba  under      1\n",
       "\n",
       "[1923 rows x 4 columns]"
      ]
     },
     "execution_count": 13,
     "metadata": {},
     "output_type": "execute_result"
    }
   ],
   "source": [
    "df"
   ]
  },
  {
   "cell_type": "code",
   "execution_count": null,
   "id": "04dcf53b",
   "metadata": {},
   "outputs": [],
   "source": [
    "len(df.loc[df['label'] == 0])"
   ]
  },
  {
   "cell_type": "code",
   "execution_count": null,
   "id": "d5e1ffe4",
   "metadata": {},
   "outputs": [],
   "source": [
    "krystian_0 = df.loc[(df['shooter'] == 'krystian') & (df['label'] == 0)]"
   ]
  },
  {
   "cell_type": "code",
   "execution_count": null,
   "id": "75e1a4c5",
   "metadata": {},
   "outputs": [],
   "source": [
    "krystian_1 = ase.loc[(database['shooter'] == 'krystian') & (database['label'] == 1) &(database['camera'] == 'under')]"
   ]
  },
  {
   "cell_type": "code",
   "execution_count": null,
   "id": "d88d366e",
   "metadata": {},
   "outputs": [],
   "source": [
    "krystian_0['path'].iloc[:int(len(krystian_0)*0.2)].values"
   ]
  },
  {
   "cell_type": "code",
   "execution_count": null,
   "id": "f50952bb",
   "metadata": {},
   "outputs": [],
   "source": [
    "krystian_0['path'].iloc[:int(len(krystian_0)*0.2)].values"
   ]
  },
  {
   "cell_type": "markdown",
   "id": "ec945347",
   "metadata": {},
   "source": [
    "## SPLIT ONLY TO TEST AND VAL - MANIPULATE LEN"
   ]
  },
  {
   "cell_type": "code",
   "execution_count": 5,
   "id": "820095f8",
   "metadata": {},
   "outputs": [
    {
     "name": "stdout",
     "output_type": "stream",
     "text": [
      "lala\n"
     ]
    }
   ],
   "source": [
    "train = []\n",
    "val = []\n",
    "# for s in shooter:\n",
    "shooter = ['adam', 'krystian', 'kuba', 'gustaw']\n",
    "for s in shooter:\n",
    "    for i in range(2):\n",
    "        shooter_df = df.loc[(df['shoter'] == s) & (df['label'] == i) & (df['camera']=='under')]\n",
    "        if s == 'adam' and i == 1:\n",
    "            print('lala')\n",
    "            shooter_df = shooter_df.iloc[200:]\n",
    "        train.extend(shooter_df.iloc[int(len(shooter_df)*0.15):].values)\n",
    "        val.extend(shooter_df.iloc[:int(len(shooter_df)*0.15)].values)\n",
    "\n",
    "# import csv\n",
    "# header = ['path']\n",
    "# with open(str(database_path.parent / 'fold_under_train.csv'), 'w') as f:\n",
    "#     write = csv.writer(f)\n",
    "#     write.writerow(header)\n",
    "#     write.writerows(train)\n",
    "    \n",
    "# with open(str(database_path.parent / 'fold_under_val.csv'), 'w') as f:\n",
    "#     write = csv.writer(f)\n",
    "#     write.writerow(header)\n",
    "#     write.writerows(val)"
   ]
  },
  {
   "cell_type": "code",
   "execution_count": 6,
   "id": "1d6faae2",
   "metadata": {},
   "outputs": [
    {
     "data": {
      "text/plain": [
       "1466"
      ]
     },
     "execution_count": 6,
     "metadata": {},
     "output_type": "execute_result"
    }
   ],
   "source": [
    "len(train)"
   ]
  },
  {
   "cell_type": "code",
   "execution_count": 7,
   "id": "c6ce0e2d",
   "metadata": {},
   "outputs": [
    {
     "data": {
      "text/plain": [
       "256"
      ]
     },
     "execution_count": 7,
     "metadata": {},
     "output_type": "execute_result"
    }
   ],
   "source": [
    "len(val)"
   ]
  },
  {
   "cell_type": "code",
   "execution_count": 8,
   "id": "8bacd9d5",
   "metadata": {},
   "outputs": [],
   "source": [
    "import random\n",
    "random.shuffle(train)\n",
    "random.shuffle(val)"
   ]
  },
  {
   "cell_type": "code",
   "execution_count": 9,
   "id": "40b66898",
   "metadata": {},
   "outputs": [],
   "source": [
    "train_df = pd.DataFrame(train, columns = ['name', 'shoter', 'camera', 'label'])\n",
    "val_df = pd.DataFrame(val, columns = ['name', 'shoter', 'camera', 'label'])"
   ]
  },
  {
   "cell_type": "code",
   "execution_count": 12,
   "id": "c340ed61",
   "metadata": {},
   "outputs": [],
   "source": [
    "train_df.to_csv('/home/s175668/raid/Praca-Magisterska/dataset/pose3d/train_under.csv', index=False)\n",
    "val_df.to_csv('/home/s175668/raid/Praca-Magisterska/dataset/pose3d/val_under.csv', index=False)"
   ]
  },
  {
   "cell_type": "markdown",
   "id": "77a01960",
   "metadata": {},
   "source": [
    "# ADD TEST"
   ]
  },
  {
   "cell_type": "code",
   "execution_count": null,
   "id": "e6d10f0d",
   "metadata": {},
   "outputs": [],
   "source": [
    "# test for one shooter\n",
    "test = []\n",
    "for s in ['gustaw']:\n",
    "    for i in range(2):\n",
    "        df = database.loc[(database['shooter'] == s) & (database['label'] == i) &(database['camera'] == 'under')]\n",
    "        test.extend(df['path'].iloc[:int(len(df)*0.2)].values)\n",
    "        \n",
    "test = [[t] for t in test]\n",
    "with open(str(database_path.parent / 'fold_4_test.csv'), 'w') as f:\n",
    "    write = csv.writer(f)\n",
    "    write.writerow(header)\n",
    "    write.writerows(test)"
   ]
  },
  {
   "cell_type": "code",
   "execution_count": null,
   "id": "083befed",
   "metadata": {},
   "outputs": [],
   "source": []
  },
  {
   "cell_type": "code",
   "execution_count": null,
   "id": "67808621",
   "metadata": {},
   "outputs": [],
   "source": [
    "csv = pd.read_csv(database_path.parent / 'fold_1_train.csv')\n",
    "csv"
   ]
  },
  {
   "cell_type": "markdown",
   "id": "64d24818",
   "metadata": {},
   "source": [
    "/home/s175668/raid/Praca-Magisterska/csv_extracted/conf_th_60/766_krystian_under_1.csv change it to label 1"
   ]
  },
  {
   "cell_type": "markdown",
   "id": "cae60f02",
   "metadata": {},
   "source": [
    "# INTERPOLATION CHECK"
   ]
  },
  {
   "cell_type": "code",
   "execution_count": null,
   "id": "ac03a5aa",
   "metadata": {},
   "outputs": [],
   "source": [
    "import os\n",
    "import torch\n",
    "import pandas as pd\n",
    "import numpy as np\n",
    "import math\n",
    "\n",
    "\n",
    "from torch.utils.data import Dataset\n",
    "from pathlib import Path"
   ]
  },
  {
   "cell_type": "code",
   "execution_count": null,
   "id": "7f7038b7",
   "metadata": {},
   "outputs": [],
   "source": [
    "df = pd.read_csv('/home/s175668/raid/Praca-Magisterska/csv_extracted/th_60_kp_with_conf/168_tomek_under_1.csv')\n",
    "# pd.set_option('display.max_columns', None)\n",
    "\n",
    "df = df.reset_index(drop=True)"
   ]
  },
  {
   "cell_type": "code",
   "execution_count": null,
   "id": "23586ebf",
   "metadata": {},
   "outputs": [],
   "source": [
    "df"
   ]
  },
  {
   "cell_type": "code",
   "execution_count": null,
   "id": "c435c127",
   "metadata": {},
   "outputs": [],
   "source": [
    "target = df.iloc[0,-1]\n",
    "conf = df.iloc[:, 4:-1:3].values\n",
    "df = df.drop(df.columns[[i for i in range(4, 39, 3)]], axis = 1)\n",
    "df = df.drop(['TARGET'], axis=1)\n",
    "cords = df.iloc[:, :].values"
   ]
  },
  {
   "cell_type": "code",
   "execution_count": null,
   "id": "629bd6ff",
   "metadata": {},
   "outputs": [],
   "source": [
    "cords.shape"
   ]
  },
  {
   "cell_type": "code",
   "execution_count": null,
   "id": "c8488d6a",
   "metadata": {},
   "outputs": [],
   "source": [
    "def interpolation(cords):\n",
    "    index = np.where(cords == 0)\n",
    "    for c in range(cords.shape[1]):\n",
    "        cords_to_interp = cords[:, c]\n",
    "\n",
    "        timestep = np.where(cords_to_interp > 0)[0]\n",
    "        index_to_interp = np.where(cords_to_interp == 0)[0]\n",
    "        cords_to_interp = np.delete(cords_to_interp, index_to_interp)\n",
    "        \n",
    "        interpolated = np.interp(index_to_interp, timestep, cords_to_interp)\n",
    "        \n",
    "        for i, index in enumerate(index_to_interp):\n",
    "            cords[index, c] = interpolated[i]\n",
    "        \n",
    "    return cords\n",
    "        "
   ]
  },
  {
   "cell_type": "code",
   "execution_count": null,
   "id": "5955cd99",
   "metadata": {},
   "outputs": [],
   "source": [
    "def calulate_vector_length(cords_x, cords_y, x0, y0):\n",
    "    vector_lenth = np.zeros((14,12))\n",
    "    for t in range(14):\n",
    "        for kp in range(12):\n",
    "            x1, y1 = cords_x[t, kp], cords_y[t,kp]\n",
    "            vector_lenth[t, kp] = math.sqrt((x1-x0)**2+(y1-y0)**2)\n",
    "    \n",
    "    return vector_lenth"
   ]
  },
  {
   "cell_type": "code",
   "execution_count": null,
   "id": "5b492373",
   "metadata": {},
   "outputs": [],
   "source": [
    "conf = interpolation(conf)\n",
    "cords = interpolation(cords)\n",
    "print(cords.shape)\n",
    "nose_x, nose_y = cords[0, 0], cords[0, 1]\n",
    "cords_x, cords_y = cords[:, 2::2], cords[:, 3::2]\n",
    "\n",
    "lh_x, rh_x = cords_x[0,6], cords_x[0,7]\n",
    "lh_y, rh_y = cords_y[0,6], cords_y[0,7]\n",
    "x0, y0 = abs(lh_x - rh_x)/2, abs(lh_y - rh_y)/2\n",
    "\n",
    "normalize_vector = math.sqrt((nose_x-x0)**2+(nose_y-y0)**2)\n",
    "print(normalize_vector)\n",
    "\n",
    "vector_length = calulate_vector_length(cords_x, cords_y, x0, y0) / normalize_vector"
   ]
  },
  {
   "cell_type": "code",
   "execution_count": null,
   "id": "1fad3351",
   "metadata": {},
   "outputs": [],
   "source": [
    "import matplotlib.pyplot as plt\n",
    "  \n",
    "# naming the x axis\n",
    "plt.plot(cords_x[5], cords_y[5], 'o', color='black');"
   ]
  },
  {
   "cell_type": "code",
   "execution_count": null,
   "id": "2de86d97",
   "metadata": {},
   "outputs": [],
   "source": [
    "import matplotlib.pyplot as plt\n",
    "  \n",
    "# naming the x axis\n",
    "plt.plot(x, y*-1, 'o', color='black');"
   ]
  },
  {
   "cell_type": "code",
   "execution_count": null,
   "id": "7eb5dd0b",
   "metadata": {},
   "outputs": [],
   "source": [
    "x =cords_x[6] - x0"
   ]
  },
  {
   "cell_type": "code",
   "execution_count": null,
   "id": "db5f94a9",
   "metadata": {},
   "outputs": [],
   "source": [
    "y = cords_y[6] - y0"
   ]
  },
  {
   "cell_type": "markdown",
   "id": "bfe24333",
   "metadata": {},
   "source": [
    "## CREATE DATABASE 3D"
   ]
  },
  {
   "cell_type": "code",
   "execution_count": null,
   "id": "1158e7cb",
   "metadata": {},
   "outputs": [],
   "source": [
    "from pathlib import Path\n",
    "\n",
    "files_path = Path('/home/s175668/raid/Praca-Magisterska/csv_extracted/3d_mmpose_14/')"
   ]
  },
  {
   "cell_type": "code",
   "execution_count": null,
   "id": "51354b26",
   "metadata": {},
   "outputs": [],
   "source": [
    "files = files_path.glob('*')"
   ]
  },
  {
   "cell_type": "code",
   "execution_count": null,
   "id": "ed6ff304",
   "metadata": {},
   "outputs": [],
   "source": [
    "file_info = []\n",
    "i = 0 \n",
    "for file in files:\n",
    "    file_name = str(file).rsplit('/', 1)[-1]\n",
    "    \n",
    "    if 'niecelny' in file_name or file_name[-6] == '0':\n",
    "        made = 0 \n",
    "    else:\n",
    "        made = 1\n",
    "    \n",
    "    if 'side' in file_name or 'site' in file_name:\n",
    "        camera = 'side'\n",
    "    else:\n",
    "        camera = 'under'\n",
    "    \n",
    "    if 'krystian' in file_name:\n",
    "        shooter = 2\n",
    "    elif 'kuba' in file_name:\n",
    "        shooter = 1\n",
    "    else:\n",
    "        shooter = 0\n",
    "    \n",
    "    file_info.append([file_name, camera, made, shooter])\n",
    "    \n",
    "df = pd.DataFrame(file_info, columns = ['file', 'camera', 'made', 'skill'])"
   ]
  },
  {
   "cell_type": "code",
   "execution_count": null,
   "id": "b6cc6c8d",
   "metadata": {},
   "outputs": [],
   "source": [
    "df_dropped = df.drop(['skill'], axis=1)"
   ]
  },
  {
   "cell_type": "code",
   "execution_count": null,
   "id": "4ebd8b6b",
   "metadata": {},
   "outputs": [],
   "source": [
    "len(df_dropped)*0.15"
   ]
  },
  {
   "cell_type": "code",
   "execution_count": null,
   "id": "84b34360",
   "metadata": {},
   "outputs": [],
   "source": [
    "df_val = df_dropped[:int(len(df_dropped)*0.15)]"
   ]
  },
  {
   "cell_type": "code",
   "execution_count": null,
   "id": "5eb95d42",
   "metadata": {},
   "outputs": [],
   "source": [
    "df_train = df_dropped[int(len(df_dropped)*0.15):]"
   ]
  },
  {
   "cell_type": "code",
   "execution_count": null,
   "id": "a64bb451",
   "metadata": {},
   "outputs": [],
   "source": [
    "df_train.to_csv('/home/s175668/raid/Praca-Magisterska/csv_extracted/3d_mmpose_14/fold_train.csv', index = False)\n",
    "df_val.to_csv('/home/s175668/raid/Praca-Magisterska/csv_extracted/3d_mmpose_14/fold_val.csv', index = False)\n",
    "df.to_csv('/home/s175668/raid/Praca-Magisterska/csv_extracted/3d_mmpose_14/database.csv', index = False)"
   ]
  },
  {
   "cell_type": "code",
   "execution_count": null,
   "id": "0adb77e8",
   "metadata": {},
   "outputs": [],
   "source": [
    "df_val.reset_index(drop=True)"
   ]
  },
  {
   "cell_type": "markdown",
   "id": "c50d63d7",
   "metadata": {},
   "source": [
    "# DATABASE LAST VERSION\n"
   ]
  },
  {
   "cell_type": "code",
   "execution_count": 42,
   "id": "ebb0a8e7",
   "metadata": {},
   "outputs": [],
   "source": [
    "broken_files = [574, 682, 1307, 1341, 4419 , 3661, 2224, 2762, 3253, 3248, 3360, 3678, 2254, 2950]"
   ]
  },
  {
   "cell_type": "code",
   "execution_count": 43,
   "id": "2ded395f",
   "metadata": {},
   "outputs": [],
   "source": [
    "database = pd.read_csv('/home/s175668/raid/Praca-Magisterska/dataset/database.csv')"
   ]
  },
  {
   "cell_type": "code",
   "execution_count": 44,
   "id": "1c2d30b4",
   "metadata": {},
   "outputs": [],
   "source": [
    "one_perspective = database[~(database['camera'] == 'side')].drop(columns='camera')"
   ]
  },
  {
   "cell_type": "code",
   "execution_count": 45,
   "id": "76f5e80a",
   "metadata": {},
   "outputs": [],
   "source": [
    "made = len(one_perspective[one_perspective['made'] == 1])\n",
    "not_made = len(one_perspective) - made\n",
    "\n",
    "clean = len(one_perspective[one_perspective['clean'] == 1])\n",
    "not_clean = len(one_perspective) - clean"
   ]
  },
  {
   "cell_type": "code",
   "execution_count": 46,
   "id": "410b44c2",
   "metadata": {},
   "outputs": [],
   "source": [
    "files = []\n",
    "for _, row in database.iterrows():\n",
    "    if int(row.file.split('_', 1)[0]) not in broken_files:\n",
    "        files.append(row.values)"
   ]
  },
  {
   "cell_type": "code",
   "execution_count": 47,
   "id": "dd12ceb0",
   "metadata": {},
   "outputs": [],
   "source": [
    "database_filtered = pd.DataFrame(files, columns=database.columns)"
   ]
  },
  {
   "cell_type": "code",
   "execution_count": 48,
   "id": "3a01bfc9",
   "metadata": {},
   "outputs": [
    {
     "data": {
      "text/html": [
       "<div>\n",
       "<style scoped>\n",
       "    .dataframe tbody tr th:only-of-type {\n",
       "        vertical-align: middle;\n",
       "    }\n",
       "\n",
       "    .dataframe tbody tr th {\n",
       "        vertical-align: top;\n",
       "    }\n",
       "\n",
       "    .dataframe thead th {\n",
       "        text-align: right;\n",
       "    }\n",
       "</style>\n",
       "<table border=\"1\" class=\"dataframe\">\n",
       "  <thead>\n",
       "    <tr style=\"text-align: right;\">\n",
       "      <th></th>\n",
       "      <th>file</th>\n",
       "      <th>shoter</th>\n",
       "      <th>camera</th>\n",
       "      <th>made</th>\n",
       "      <th>clean</th>\n",
       "      <th>skill</th>\n",
       "    </tr>\n",
       "  </thead>\n",
       "  <tbody>\n",
       "    <tr>\n",
       "      <th>0</th>\n",
       "      <td>0001_krystian_under_1</td>\n",
       "      <td>krystian</td>\n",
       "      <td>under</td>\n",
       "      <td>1</td>\n",
       "      <td>1</td>\n",
       "      <td>2</td>\n",
       "    </tr>\n",
       "    <tr>\n",
       "      <th>1</th>\n",
       "      <td>0001_krystian_side_1</td>\n",
       "      <td>krystian</td>\n",
       "      <td>side</td>\n",
       "      <td>1</td>\n",
       "      <td>1</td>\n",
       "      <td>2</td>\n",
       "    </tr>\n",
       "    <tr>\n",
       "      <th>2</th>\n",
       "      <td>0002_krystian_under_1</td>\n",
       "      <td>krystian</td>\n",
       "      <td>under</td>\n",
       "      <td>1</td>\n",
       "      <td>1</td>\n",
       "      <td>2</td>\n",
       "    </tr>\n",
       "    <tr>\n",
       "      <th>3</th>\n",
       "      <td>0002_krystian_side_1</td>\n",
       "      <td>krystian</td>\n",
       "      <td>side</td>\n",
       "      <td>1</td>\n",
       "      <td>1</td>\n",
       "      <td>2</td>\n",
       "    </tr>\n",
       "    <tr>\n",
       "      <th>4</th>\n",
       "      <td>0003_krystian_under_1</td>\n",
       "      <td>krystian</td>\n",
       "      <td>under</td>\n",
       "      <td>1</td>\n",
       "      <td>1</td>\n",
       "      <td>2</td>\n",
       "    </tr>\n",
       "    <tr>\n",
       "      <th>...</th>\n",
       "      <td>...</td>\n",
       "      <td>...</td>\n",
       "      <td>...</td>\n",
       "      <td>...</td>\n",
       "      <td>...</td>\n",
       "      <td>...</td>\n",
       "    </tr>\n",
       "    <tr>\n",
       "      <th>9017</th>\n",
       "      <td>4523_kuba_side_1</td>\n",
       "      <td>kuba</td>\n",
       "      <td>side</td>\n",
       "      <td>1</td>\n",
       "      <td>1</td>\n",
       "      <td>1</td>\n",
       "    </tr>\n",
       "    <tr>\n",
       "      <th>9018</th>\n",
       "      <td>4524_gustaw_under_0</td>\n",
       "      <td>gustaw</td>\n",
       "      <td>under</td>\n",
       "      <td>0</td>\n",
       "      <td>0</td>\n",
       "      <td>0</td>\n",
       "    </tr>\n",
       "    <tr>\n",
       "      <th>9019</th>\n",
       "      <td>4524_gustaw_side_0</td>\n",
       "      <td>gustaw</td>\n",
       "      <td>side</td>\n",
       "      <td>0</td>\n",
       "      <td>0</td>\n",
       "      <td>0</td>\n",
       "    </tr>\n",
       "    <tr>\n",
       "      <th>9020</th>\n",
       "      <td>4525_kuba_under_0</td>\n",
       "      <td>kuba</td>\n",
       "      <td>under</td>\n",
       "      <td>0</td>\n",
       "      <td>0</td>\n",
       "      <td>1</td>\n",
       "    </tr>\n",
       "    <tr>\n",
       "      <th>9021</th>\n",
       "      <td>4525_kuba_side_0</td>\n",
       "      <td>kuba</td>\n",
       "      <td>side</td>\n",
       "      <td>0</td>\n",
       "      <td>0</td>\n",
       "      <td>1</td>\n",
       "    </tr>\n",
       "  </tbody>\n",
       "</table>\n",
       "<p>9022 rows × 6 columns</p>\n",
       "</div>"
      ],
      "text/plain": [
       "                       file    shoter camera  made  clean  skill\n",
       "0     0001_krystian_under_1  krystian  under     1      1      2\n",
       "1      0001_krystian_side_1  krystian   side     1      1      2\n",
       "2     0002_krystian_under_1  krystian  under     1      1      2\n",
       "3      0002_krystian_side_1  krystian   side     1      1      2\n",
       "4     0003_krystian_under_1  krystian  under     1      1      2\n",
       "...                     ...       ...    ...   ...    ...    ...\n",
       "9017       4523_kuba_side_1      kuba   side     1      1      1\n",
       "9018    4524_gustaw_under_0    gustaw  under     0      0      0\n",
       "9019     4524_gustaw_side_0    gustaw   side     0      0      0\n",
       "9020      4525_kuba_under_0      kuba  under     0      0      1\n",
       "9021       4525_kuba_side_0      kuba   side     0      0      1\n",
       "\n",
       "[9022 rows x 6 columns]"
      ]
     },
     "execution_count": 48,
     "metadata": {},
     "output_type": "execute_result"
    }
   ],
   "source": [
    "database_filtered"
   ]
  },
  {
   "cell_type": "code",
   "execution_count": 49,
   "id": "67b5d098",
   "metadata": {},
   "outputs": [
    {
     "data": {
      "text/html": [
       "<div>\n",
       "<style scoped>\n",
       "    .dataframe tbody tr th:only-of-type {\n",
       "        vertical-align: middle;\n",
       "    }\n",
       "\n",
       "    .dataframe tbody tr th {\n",
       "        vertical-align: top;\n",
       "    }\n",
       "\n",
       "    .dataframe thead th {\n",
       "        text-align: right;\n",
       "    }\n",
       "</style>\n",
       "<table border=\"1\" class=\"dataframe\">\n",
       "  <thead>\n",
       "    <tr style=\"text-align: right;\">\n",
       "      <th></th>\n",
       "      <th>file</th>\n",
       "      <th>shoter</th>\n",
       "      <th>camera</th>\n",
       "      <th>made</th>\n",
       "      <th>clean</th>\n",
       "      <th>skill</th>\n",
       "    </tr>\n",
       "  </thead>\n",
       "  <tbody>\n",
       "    <tr>\n",
       "      <th>0</th>\n",
       "      <td>0001_krystian_under_1</td>\n",
       "      <td>krystian</td>\n",
       "      <td>under</td>\n",
       "      <td>1</td>\n",
       "      <td>1</td>\n",
       "      <td>2</td>\n",
       "    </tr>\n",
       "    <tr>\n",
       "      <th>1</th>\n",
       "      <td>0001_krystian_side_1</td>\n",
       "      <td>krystian</td>\n",
       "      <td>side</td>\n",
       "      <td>1</td>\n",
       "      <td>1</td>\n",
       "      <td>2</td>\n",
       "    </tr>\n",
       "    <tr>\n",
       "      <th>2</th>\n",
       "      <td>0002_krystian_under_1</td>\n",
       "      <td>krystian</td>\n",
       "      <td>under</td>\n",
       "      <td>1</td>\n",
       "      <td>1</td>\n",
       "      <td>2</td>\n",
       "    </tr>\n",
       "    <tr>\n",
       "      <th>3</th>\n",
       "      <td>0002_krystian_side_1</td>\n",
       "      <td>krystian</td>\n",
       "      <td>side</td>\n",
       "      <td>1</td>\n",
       "      <td>1</td>\n",
       "      <td>2</td>\n",
       "    </tr>\n",
       "    <tr>\n",
       "      <th>4</th>\n",
       "      <td>0003_krystian_under_1</td>\n",
       "      <td>krystian</td>\n",
       "      <td>under</td>\n",
       "      <td>1</td>\n",
       "      <td>1</td>\n",
       "      <td>2</td>\n",
       "    </tr>\n",
       "    <tr>\n",
       "      <th>...</th>\n",
       "      <td>...</td>\n",
       "      <td>...</td>\n",
       "      <td>...</td>\n",
       "      <td>...</td>\n",
       "      <td>...</td>\n",
       "      <td>...</td>\n",
       "    </tr>\n",
       "    <tr>\n",
       "      <th>9045</th>\n",
       "      <td>4523_kuba_side_1</td>\n",
       "      <td>kuba</td>\n",
       "      <td>side</td>\n",
       "      <td>1</td>\n",
       "      <td>1</td>\n",
       "      <td>1</td>\n",
       "    </tr>\n",
       "    <tr>\n",
       "      <th>9046</th>\n",
       "      <td>4524_gustaw_under_0</td>\n",
       "      <td>gustaw</td>\n",
       "      <td>under</td>\n",
       "      <td>0</td>\n",
       "      <td>0</td>\n",
       "      <td>0</td>\n",
       "    </tr>\n",
       "    <tr>\n",
       "      <th>9047</th>\n",
       "      <td>4524_gustaw_side_0</td>\n",
       "      <td>gustaw</td>\n",
       "      <td>side</td>\n",
       "      <td>0</td>\n",
       "      <td>0</td>\n",
       "      <td>0</td>\n",
       "    </tr>\n",
       "    <tr>\n",
       "      <th>9048</th>\n",
       "      <td>4525_kuba_under_0</td>\n",
       "      <td>kuba</td>\n",
       "      <td>under</td>\n",
       "      <td>0</td>\n",
       "      <td>0</td>\n",
       "      <td>1</td>\n",
       "    </tr>\n",
       "    <tr>\n",
       "      <th>9049</th>\n",
       "      <td>4525_kuba_side_0</td>\n",
       "      <td>kuba</td>\n",
       "      <td>side</td>\n",
       "      <td>0</td>\n",
       "      <td>0</td>\n",
       "      <td>1</td>\n",
       "    </tr>\n",
       "  </tbody>\n",
       "</table>\n",
       "<p>9050 rows × 6 columns</p>\n",
       "</div>"
      ],
      "text/plain": [
       "                       file    shoter camera  made  clean  skill\n",
       "0     0001_krystian_under_1  krystian  under     1      1      2\n",
       "1      0001_krystian_side_1  krystian   side     1      1      2\n",
       "2     0002_krystian_under_1  krystian  under     1      1      2\n",
       "3      0002_krystian_side_1  krystian   side     1      1      2\n",
       "4     0003_krystian_under_1  krystian  under     1      1      2\n",
       "...                     ...       ...    ...   ...    ...    ...\n",
       "9045       4523_kuba_side_1      kuba   side     1      1      1\n",
       "9046    4524_gustaw_under_0    gustaw  under     0      0      0\n",
       "9047     4524_gustaw_side_0    gustaw   side     0      0      0\n",
       "9048      4525_kuba_under_0      kuba  under     0      0      1\n",
       "9049       4525_kuba_side_0      kuba   side     0      0      1\n",
       "\n",
       "[9050 rows x 6 columns]"
      ]
     },
     "execution_count": 49,
     "metadata": {},
     "output_type": "execute_result"
    }
   ],
   "source": [
    "database"
   ]
  },
  {
   "cell_type": "code",
   "execution_count": 50,
   "id": "25e4ad57",
   "metadata": {},
   "outputs": [
    {
     "data": {
      "text/plain": [
       "580.4"
      ]
     },
     "execution_count": 50,
     "metadata": {},
     "output_type": "execute_result"
    }
   ],
   "source": [
    "len(database_filtered[(database_filtered['shoter'] == 'kuba')])*0.2"
   ]
  },
  {
   "cell_type": "code",
   "execution_count": 51,
   "id": "de391276",
   "metadata": {},
   "outputs": [
    {
     "data": {
      "text/plain": [
       "457.20000000000005"
      ]
     },
     "execution_count": 51,
     "metadata": {},
     "output_type": "execute_result"
    }
   ],
   "source": [
    "len(database_filtered[(database_filtered['shoter'] == 'gustaw')])*0.2"
   ]
  },
  {
   "cell_type": "code",
   "execution_count": 52,
   "id": "135697d7",
   "metadata": {},
   "outputs": [
    {
     "data": {
      "text/plain": [
       "410.40000000000003"
      ]
     },
     "execution_count": 52,
     "metadata": {},
     "output_type": "execute_result"
    }
   ],
   "source": [
    "len(database_filtered[database_filtered['shoter'] == 'adam'])*0.2"
   ]
  },
  {
   "cell_type": "code",
   "execution_count": 53,
   "id": "f084d7ce",
   "metadata": {},
   "outputs": [
    {
     "data": {
      "text/plain": [
       "356.40000000000003"
      ]
     },
     "execution_count": 53,
     "metadata": {},
     "output_type": "execute_result"
    }
   ],
   "source": [
    "len(database_filtered.loc[(database_filtered['shoter'] == 'krystian')])*0.2"
   ]
  },
  {
   "cell_type": "code",
   "execution_count": 54,
   "id": "297f1759",
   "metadata": {},
   "outputs": [
    {
     "data": {
      "text/plain": [
       "125.60000000000001"
      ]
     },
     "execution_count": 54,
     "metadata": {},
     "output_type": "execute_result"
    }
   ],
   "source": [
    "len(database_filtered.loc[(database_filtered['shoter'] == 'krystian')&(database_filtered['made'] == 0)])*0.2"
   ]
  },
  {
   "cell_type": "code",
   "execution_count": 55,
   "id": "c0d3c1c0",
   "metadata": {},
   "outputs": [
    {
     "name": "stdout",
     "output_type": "stream",
     "text": [
      "adam\n",
      "0\n",
      "1\n",
      "krystian\n",
      "0\n",
      "1\n",
      "kuba\n",
      "0\n",
      "1\n",
      "gustaw\n",
      "0\n",
      "1\n"
     ]
    }
   ],
   "source": [
    "train = []\n",
    "val = []\n",
    "shooters = ['adam', 'krystian', 'kuba', 'gustaw']\n",
    "for s in shooters:\n",
    "    print(s)\n",
    "    for m in range(2):\n",
    "        print(m)\n",
    "        df = database_filtered.loc[(database_filtered['shoter'] == s)&(database_filtered['made'] == m)]\n",
    "        df = df.drop(columns=['clean', 'skill'])\n",
    "        train.extend(df.iloc[int(len(df)*0.2):].values)\n",
    "        val.extend(df.iloc[:int(len(df)*0.2)].values)"
   ]
  },
  {
   "cell_type": "code",
   "execution_count": 56,
   "id": "02ba1617",
   "metadata": {},
   "outputs": [],
   "source": [
    "train_df = pd.DataFrame(train, columns = ['name', 'shoter', 'camera', 'label'])\n",
    "val_df = pd.DataFrame(val, columns = ['name', 'shoter', 'camera', 'label'])"
   ]
  },
  {
   "cell_type": "code",
   "execution_count": 57,
   "id": "7fedbc83",
   "metadata": {},
   "outputs": [
    {
     "data": {
      "text/html": [
       "<div>\n",
       "<style scoped>\n",
       "    .dataframe tbody tr th:only-of-type {\n",
       "        vertical-align: middle;\n",
       "    }\n",
       "\n",
       "    .dataframe tbody tr th {\n",
       "        vertical-align: top;\n",
       "    }\n",
       "\n",
       "    .dataframe thead th {\n",
       "        text-align: right;\n",
       "    }\n",
       "</style>\n",
       "<table border=\"1\" class=\"dataframe\">\n",
       "  <thead>\n",
       "    <tr style=\"text-align: right;\">\n",
       "      <th></th>\n",
       "      <th>name</th>\n",
       "      <th>shoter</th>\n",
       "      <th>camera</th>\n",
       "      <th>label</th>\n",
       "    </tr>\n",
       "  </thead>\n",
       "  <tbody>\n",
       "    <tr>\n",
       "      <th>0</th>\n",
       "      <td>0655_adam_side_0</td>\n",
       "      <td>adam</td>\n",
       "      <td>side</td>\n",
       "      <td>0</td>\n",
       "    </tr>\n",
       "    <tr>\n",
       "      <th>1</th>\n",
       "      <td>0656_adam_under_0</td>\n",
       "      <td>adam</td>\n",
       "      <td>under</td>\n",
       "      <td>0</td>\n",
       "    </tr>\n",
       "    <tr>\n",
       "      <th>2</th>\n",
       "      <td>0656_adam_side_0</td>\n",
       "      <td>adam</td>\n",
       "      <td>side</td>\n",
       "      <td>0</td>\n",
       "    </tr>\n",
       "    <tr>\n",
       "      <th>3</th>\n",
       "      <td>0667_adam_under_0</td>\n",
       "      <td>adam</td>\n",
       "      <td>under</td>\n",
       "      <td>0</td>\n",
       "    </tr>\n",
       "    <tr>\n",
       "      <th>4</th>\n",
       "      <td>0667_adam_side_0</td>\n",
       "      <td>adam</td>\n",
       "      <td>side</td>\n",
       "      <td>0</td>\n",
       "    </tr>\n",
       "    <tr>\n",
       "      <th>...</th>\n",
       "      <td>...</td>\n",
       "      <td>...</td>\n",
       "      <td>...</td>\n",
       "      <td>...</td>\n",
       "    </tr>\n",
       "    <tr>\n",
       "      <th>7217</th>\n",
       "      <td>4498_gustaw_side_1</td>\n",
       "      <td>gustaw</td>\n",
       "      <td>side</td>\n",
       "      <td>1</td>\n",
       "    </tr>\n",
       "    <tr>\n",
       "      <th>7218</th>\n",
       "      <td>4510_gustaw_under_1</td>\n",
       "      <td>gustaw</td>\n",
       "      <td>under</td>\n",
       "      <td>1</td>\n",
       "    </tr>\n",
       "    <tr>\n",
       "      <th>7219</th>\n",
       "      <td>4510_gustaw_side_1</td>\n",
       "      <td>gustaw</td>\n",
       "      <td>side</td>\n",
       "      <td>1</td>\n",
       "    </tr>\n",
       "    <tr>\n",
       "      <th>7220</th>\n",
       "      <td>4519_gustaw_under_1</td>\n",
       "      <td>gustaw</td>\n",
       "      <td>under</td>\n",
       "      <td>1</td>\n",
       "    </tr>\n",
       "    <tr>\n",
       "      <th>7221</th>\n",
       "      <td>4519_gustaw_side_1</td>\n",
       "      <td>gustaw</td>\n",
       "      <td>side</td>\n",
       "      <td>1</td>\n",
       "    </tr>\n",
       "  </tbody>\n",
       "</table>\n",
       "<p>7222 rows × 4 columns</p>\n",
       "</div>"
      ],
      "text/plain": [
       "                     name  shoter camera  label\n",
       "0        0655_adam_side_0    adam   side      0\n",
       "1       0656_adam_under_0    adam  under      0\n",
       "2        0656_adam_side_0    adam   side      0\n",
       "3       0667_adam_under_0    adam  under      0\n",
       "4        0667_adam_side_0    adam   side      0\n",
       "...                   ...     ...    ...    ...\n",
       "7217   4498_gustaw_side_1  gustaw   side      1\n",
       "7218  4510_gustaw_under_1  gustaw  under      1\n",
       "7219   4510_gustaw_side_1  gustaw   side      1\n",
       "7220  4519_gustaw_under_1  gustaw  under      1\n",
       "7221   4519_gustaw_side_1  gustaw   side      1\n",
       "\n",
       "[7222 rows x 4 columns]"
      ]
     },
     "execution_count": 57,
     "metadata": {},
     "output_type": "execute_result"
    }
   ],
   "source": [
    "train_df"
   ]
  },
  {
   "cell_type": "code",
   "execution_count": 58,
   "id": "0b744d07",
   "metadata": {},
   "outputs": [
    {
     "data": {
      "text/html": [
       "<div>\n",
       "<style scoped>\n",
       "    .dataframe tbody tr th:only-of-type {\n",
       "        vertical-align: middle;\n",
       "    }\n",
       "\n",
       "    .dataframe tbody tr th {\n",
       "        vertical-align: top;\n",
       "    }\n",
       "\n",
       "    .dataframe thead th {\n",
       "        text-align: right;\n",
       "    }\n",
       "</style>\n",
       "<table border=\"1\" class=\"dataframe\">\n",
       "  <thead>\n",
       "    <tr style=\"text-align: right;\">\n",
       "      <th></th>\n",
       "      <th>name</th>\n",
       "      <th>shoter</th>\n",
       "      <th>camera</th>\n",
       "      <th>label</th>\n",
       "    </tr>\n",
       "  </thead>\n",
       "  <tbody>\n",
       "    <tr>\n",
       "      <th>0</th>\n",
       "      <td>0437_adam_under_0</td>\n",
       "      <td>adam</td>\n",
       "      <td>under</td>\n",
       "      <td>0</td>\n",
       "    </tr>\n",
       "    <tr>\n",
       "      <th>1</th>\n",
       "      <td>0437_adam_side_0</td>\n",
       "      <td>adam</td>\n",
       "      <td>side</td>\n",
       "      <td>0</td>\n",
       "    </tr>\n",
       "    <tr>\n",
       "      <th>2</th>\n",
       "      <td>0440_adam_under_0</td>\n",
       "      <td>adam</td>\n",
       "      <td>under</td>\n",
       "      <td>0</td>\n",
       "    </tr>\n",
       "    <tr>\n",
       "      <th>3</th>\n",
       "      <td>0440_adam_side_0</td>\n",
       "      <td>adam</td>\n",
       "      <td>side</td>\n",
       "      <td>0</td>\n",
       "    </tr>\n",
       "    <tr>\n",
       "      <th>4</th>\n",
       "      <td>0442_adam_under_0</td>\n",
       "      <td>adam</td>\n",
       "      <td>under</td>\n",
       "      <td>0</td>\n",
       "    </tr>\n",
       "    <tr>\n",
       "      <th>...</th>\n",
       "      <td>...</td>\n",
       "      <td>...</td>\n",
       "      <td>...</td>\n",
       "      <td>...</td>\n",
       "    </tr>\n",
       "    <tr>\n",
       "      <th>1795</th>\n",
       "      <td>2392_gustaw_under_1</td>\n",
       "      <td>gustaw</td>\n",
       "      <td>under</td>\n",
       "      <td>1</td>\n",
       "    </tr>\n",
       "    <tr>\n",
       "      <th>1796</th>\n",
       "      <td>2392_gustaw_side_1</td>\n",
       "      <td>gustaw</td>\n",
       "      <td>side</td>\n",
       "      <td>1</td>\n",
       "    </tr>\n",
       "    <tr>\n",
       "      <th>1797</th>\n",
       "      <td>2393_gustaw_under_1</td>\n",
       "      <td>gustaw</td>\n",
       "      <td>under</td>\n",
       "      <td>1</td>\n",
       "    </tr>\n",
       "    <tr>\n",
       "      <th>1798</th>\n",
       "      <td>2393_gustaw_side_1</td>\n",
       "      <td>gustaw</td>\n",
       "      <td>side</td>\n",
       "      <td>1</td>\n",
       "    </tr>\n",
       "    <tr>\n",
       "      <th>1799</th>\n",
       "      <td>2399_gustaw_under_1</td>\n",
       "      <td>gustaw</td>\n",
       "      <td>under</td>\n",
       "      <td>1</td>\n",
       "    </tr>\n",
       "  </tbody>\n",
       "</table>\n",
       "<p>1800 rows × 4 columns</p>\n",
       "</div>"
      ],
      "text/plain": [
       "                     name  shoter camera  label\n",
       "0       0437_adam_under_0    adam  under      0\n",
       "1        0437_adam_side_0    adam   side      0\n",
       "2       0440_adam_under_0    adam  under      0\n",
       "3        0440_adam_side_0    adam   side      0\n",
       "4       0442_adam_under_0    adam  under      0\n",
       "...                   ...     ...    ...    ...\n",
       "1795  2392_gustaw_under_1  gustaw  under      1\n",
       "1796   2392_gustaw_side_1  gustaw   side      1\n",
       "1797  2393_gustaw_under_1  gustaw  under      1\n",
       "1798   2393_gustaw_side_1  gustaw   side      1\n",
       "1799  2399_gustaw_under_1  gustaw  under      1\n",
       "\n",
       "[1800 rows x 4 columns]"
      ]
     },
     "execution_count": 58,
     "metadata": {},
     "output_type": "execute_result"
    }
   ],
   "source": [
    "val_df"
   ]
  },
  {
   "cell_type": "code",
   "execution_count": 59,
   "id": "25c19040",
   "metadata": {},
   "outputs": [],
   "source": [
    "train_df.to_csv('/home/s175668/raid/Praca-Magisterska/dataset/folds/made/train_made_balance.csv', index=False)"
   ]
  },
  {
   "cell_type": "code",
   "execution_count": 60,
   "id": "bf60ca4d",
   "metadata": {},
   "outputs": [],
   "source": [
    "val_df.to_csv('/home/s175668/raid/Praca-Magisterska/dataset/folds/made/val_made_balance.csv', index=False)"
   ]
  },
  {
   "cell_type": "code",
   "execution_count": 61,
   "id": "230caf15",
   "metadata": {},
   "outputs": [
    {
     "data": {
      "text/plain": [
       "0.4706452506230961"
      ]
     },
     "execution_count": 61,
     "metadata": {},
     "output_type": "execute_result"
    }
   ],
   "source": [
    "len(train_df[train_df['label'] == 0])/ len(train_df)"
   ]
  },
  {
   "cell_type": "code",
   "execution_count": null,
   "id": "af5a0bc4",
   "metadata": {},
   "outputs": [],
   "source": []
  }
 ],
 "metadata": {
  "kernelspec": {
   "display_name": "Python 3 (ipykernel)",
   "language": "python",
   "name": "python3"
  },
  "language_info": {
   "codemirror_mode": {
    "name": "ipython",
    "version": 3
   },
   "file_extension": ".py",
   "mimetype": "text/x-python",
   "name": "python",
   "nbconvert_exporter": "python",
   "pygments_lexer": "ipython3",
   "version": "3.8.10"
  }
 },
 "nbformat": 4,
 "nbformat_minor": 5
}
