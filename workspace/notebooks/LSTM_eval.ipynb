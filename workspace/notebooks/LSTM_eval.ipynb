{
 "cells": [
  {
   "cell_type": "code",
   "execution_count": 1,
   "id": "baccd4b4",
   "metadata": {},
   "outputs": [
    {
     "name": "stdout",
     "output_type": "stream",
     "text": [
      "/raid/s175668/Praca-Magisterska/Repozytorium/Projekt-Magisterski\n"
     ]
    }
   ],
   "source": [
    "import torch\n",
    "from xgboost import XGBClassifier\n",
    "from sklearn.model_selection import train_test_split\n",
    "from sklearn.metrics import accuracy_score\n",
    "\n",
    "%cd ../Projekt-Magisterski/\n",
    "from workspace.pose_3d.dataset import KeypointsMatrix\n",
    "from torch.utils.data import DataLoader\n",
    "import numpy as np\n",
    "from matplotlib import pyplot\n",
    "import pandas as pd\n",
    "import torch\n",
    "from workspace.pose_3d.models.model import LSTM"
   ]
  },
  {
   "cell_type": "code",
   "execution_count": 28,
   "id": "0c899366",
   "metadata": {},
   "outputs": [],
   "source": [
    "file_name = 'model_cg_with_aug_001'"
   ]
  },
  {
   "cell_type": "code",
   "execution_count": 29,
   "id": "9d4dc8c3",
   "metadata": {},
   "outputs": [],
   "source": [
    "def calculate_values(train_data, test_data, model):\n",
    "    y_pred = []\n",
    "    y_true = []\n",
    "    for data in train_data:\n",
    "        x, y = data\n",
    "        y_hat = model(x.unsqueeze(0))\n",
    "        y_pred.append(y_hat.item())\n",
    "        y_true.append(y.item())\n",
    "        \n",
    "    y_pred = np.array(y_pred)\n",
    "    y_true = np.array(y_true)\n",
    "    mse_train = mean_squared_error(y_true, y_pred)\n",
    "    \n",
    "    y_pred[y_pred<0.5] = 0.\n",
    "    y_pred[y_pred>=0.5] = 1. \n",
    "    \n",
    "    acc_train = accuracy_score(y_true, y_pred)\n",
    "    \n",
    "    \n",
    "    y_pred = []\n",
    "    y_true = []\n",
    "    for data in test_data:\n",
    "        x, y = data\n",
    "        y_hat = model(x.unsqueeze(0))\n",
    "        y_pred.append(y_hat.item())\n",
    "        y_true.append(y.item())\n",
    "        \n",
    "    y_pred = np.array(y_pred)\n",
    "    y_true = np.array(y_true)\n",
    "    mse_val = mean_squared_error(y_true, y_pred)\n",
    "    \n",
    "    y_pred[y_pred<0.5] = 0.\n",
    "    y_pred[y_pred>=0.5] = 1. \n",
    "    \n",
    "    acc_val = accuracy_score(y_true, y_pred)\n",
    "    \n",
    "    return acc_train, acc_val, mse_train, mse_val\n",
    "#     mse_train = mean_squared_error(y_true, y_pred)\n",
    "#     y_pred"
   ]
  },
  {
   "cell_type": "code",
   "execution_count": 30,
   "id": "c6e1a259",
   "metadata": {},
   "outputs": [],
   "source": [
    "from sklearn.metrics import mean_squared_error\n",
    "\n",
    "def plots_columns_bats(model, camera, cordinates, height, select, min_max, cg, vf):\n",
    "    shooter = ['adam', 'krystian', 'kuba', 'gustaw']\n",
    "    label = ['ALL', '1', '2', '3', '4']\n",
    "    val_mse = []\n",
    "    val_accuracy = []\n",
    "    train_mse = []\n",
    "    train_accuracy = []\n",
    "\n",
    "    training_set = KeypointsMatrix('/home/s175668/raid/Praca-Magisterska/dataset/folds/made/train_made_balance.csv',\n",
    "                             camera=camera, cordinates_move=cordinates, height_normalize=height,\n",
    "                            signal_normalize_0_1=min_max, cg=cg, vf=vf, choose_points=select)\n",
    "    \n",
    "    test_set = KeypointsMatrix('/home/s175668/raid/Praca-Magisterska/dataset/folds/made/val_made_balance.csv',\n",
    "                             camera=camera, cordinates_move=cordinates, height_normalize=height,\n",
    "                            signal_normalize_0_1=min_max, cg=cg, vf=vf, choose_points=select)\n",
    "    \n",
    "    \n",
    "    \n",
    "    acc_train, acc_val, mse_train, mse_val = calculate_values(training_set, test_set, model)\n",
    "    \n",
    "    train_accuracy.append(acc_train)\n",
    "    val_accuracy.append(acc_val)\n",
    "    train_mse.append(mse_train)\n",
    "    val_mse.append(mse_val)\n",
    "    \n",
    "    \n",
    "    for i, s in enumerate(shooter):\n",
    "        training_set = KeypointsMatrix('/home/s175668/raid/Praca-Magisterska/dataset/folds/made/train_made_balance.csv',\n",
    "                             shoter=s, camera=camera, cordinates_move=cordinates, height_normalize=height,\n",
    "                            signal_normalize_0_1=min_max, cg=cg, vf=vf, choose_points=select)\n",
    "    \n",
    "        test_set = KeypointsMatrix('/home/s175668/raid/Praca-Magisterska/dataset/folds/made/val_made_balance.csv',\n",
    "                                     shoter=s, camera=camera, cordinates_move=cordinates, height_normalize=height,\n",
    "                                    signal_normalize_0_1=min_max, cg=cg, vf=vf, choose_points=select)\n",
    "        \n",
    "        acc_train, acc_val, mse_train, mse_val = calculate_values(training_set, test_set, model)\n",
    "    \n",
    "        train_accuracy.append(acc_train)\n",
    "        val_accuracy.append(acc_val)\n",
    "        train_mse.append(mse_train)\n",
    "        val_mse.append(mse_val)\n",
    "\n",
    "\n",
    "    df_mse = pd.DataFrame({'val': val_mse,\n",
    "                       'train': train_mse}, index=label)\n",
    "\n",
    "    df_accuracy = pd.DataFrame({'val': val_accuracy,\n",
    "                       'train': train_accuracy}, index=label)\n",
    "\n",
    "    return df_mse, df_accuracy\n",
    "    \n",
    "    "
   ]
  },
  {
   "cell_type": "code",
   "execution_count": 31,
   "id": "0035eaa5",
   "metadata": {},
   "outputs": [],
   "source": [
    "model_path = '/home/s175668/raid/Praca-Magisterska/models_new/001_model_0.1_both.pt'"
   ]
  },
  {
   "cell_type": "code",
   "execution_count": 32,
   "id": "a06e99dc",
   "metadata": {},
   "outputs": [
    {
     "data": {
      "text/plain": [
       "LSTM(\n",
       "  (flatten): Flatten(start_dim=1, end_dim=-1)\n",
       "  (relu): ReLU()\n",
       "  (leaky_relu): LeakyReLU(negative_slope=0.01)\n",
       "  (dropout): Dropout(p=0.2, inplace=False)\n",
       "  (sigmoid): Sigmoid()\n",
       "  (lstm): LSTM(36, 12, num_layers=4, batch_first=True, dropout=0.2)\n",
       "  (conv1_d): Conv1d(36, 36, kernel_size=(5,), stride=(1,), padding=same)\n",
       "  (linear_1): Linear(in_features=216, out_features=108, bias=True)\n",
       "  (linear_2): Linear(in_features=108, out_features=1, bias=True)\n",
       "  (linear_out): Linear(in_features=216, out_features=1, bias=True)\n",
       ")"
      ]
     },
     "execution_count": 32,
     "metadata": {},
     "output_type": "execute_result"
    }
   ],
   "source": [
    "model = LSTM(2, 0.2, 12, 4, 0.2)\n",
    "model.load_state_dict(torch.load(model_path))\n",
    "model.eval()"
   ]
  },
  {
   "cell_type": "code",
   "execution_count": 33,
   "id": "5784057c",
   "metadata": {},
   "outputs": [],
   "source": [
    "df_mse, df_acc = plots_columns_bats(model, camera=None, cordinates=False, height=False, select=True,\n",
    "                  min_max=False, cg =True, vf=False)"
   ]
  },
  {
   "cell_type": "code",
   "execution_count": 34,
   "id": "5dc81e65",
   "metadata": {},
   "outputs": [
    {
     "data": {
      "image/png": "[encoded data removed]",
      "text/plain": [
       "<Figure size 640x480 with 1 Axes>"
      ]
     },
     "metadata": {},
     "output_type": "display_data"
    }
   ],
   "source": [
    "ax = df_mse.plot.bar(rot=0, title='MSE').legend(loc=1)\n",
    "ax.figure.savefig(save_root/ f'{file_name}_mse.png')"
   ]
  },
  {
   "cell_type": "code",
   "execution_count": 35,
   "id": "1f8a14b3",
   "metadata": {},
   "outputs": [
    {
     "data": {
      "image/png": "[encoded data removed]",
      "text/plain": [
       "<Figure size 640x480 with 1 Axes>"
      ]
     },
     "metadata": {},
     "output_type": "display_data"
    }
   ],
   "source": [
    "ax = df_accuracy.plot.bar(rot=0, title='Dokładność').legend(loc=1)\n",
    "ax.figure.savefig(save_root/ f'{file_name}_acc.png')"
   ]
  },
  {
   "cell_type": "code",
   "execution_count": 22,
   "id": "40fdb438",
   "metadata": {},
   "outputs": [],
   "source": [
    "save_root = Path('/home/s175668/raid/Praca-Magisterska/visualization/accu')"
   ]
  },
  {
   "cell_type": "code",
   "execution_count": 21,
   "id": "6deea7b9",
   "metadata": {},
   "outputs": [],
   "source": [
    "from pathlib import Path"
   ]
  },
  {
   "cell_type": "markdown",
   "id": "ac5ce918",
   "metadata": {},
   "source": [
    "# Withou AUG"
   ]
  },
  {
   "cell_type": "code",
   "execution_count": 27,
   "id": "d378148a",
   "metadata": {},
   "outputs": [
    {
     "data": {
      "text/html": [
       "<div>\n",
       "<style scoped>\n",
       "    .dataframe tbody tr th:only-of-type {\n",
       "        vertical-align: middle;\n",
       "    }\n",
       "\n",
       "    .dataframe tbody tr th {\n",
       "        vertical-align: top;\n",
       "    }\n",
       "\n",
       "    .dataframe thead th {\n",
       "        text-align: right;\n",
       "    }\n",
       "</style>\n",
       "<table border=\"1\" class=\"dataframe\">\n",
       "  <thead>\n",
       "    <tr style=\"text-align: right;\">\n",
       "      <th></th>\n",
       "      <th>val</th>\n",
       "      <th>train</th>\n",
       "    </tr>\n",
       "  </thead>\n",
       "  <tbody>\n",
       "    <tr>\n",
       "      <th>ALL</th>\n",
       "      <td>0.631667</td>\n",
       "      <td>0.647328</td>\n",
       "    </tr>\n",
       "    <tr>\n",
       "      <th>1</th>\n",
       "      <td>0.728606</td>\n",
       "      <td>0.777237</td>\n",
       "    </tr>\n",
       "    <tr>\n",
       "      <th>2</th>\n",
       "      <td>0.659155</td>\n",
       "      <td>0.669937</td>\n",
       "    </tr>\n",
       "    <tr>\n",
       "      <th>3</th>\n",
       "      <td>0.589655</td>\n",
       "      <td>0.597330</td>\n",
       "    </tr>\n",
       "    <tr>\n",
       "      <th>4</th>\n",
       "      <td>0.576754</td>\n",
       "      <td>0.576503</td>\n",
       "    </tr>\n",
       "  </tbody>\n",
       "</table>\n",
       "</div>"
      ],
      "text/plain": [
       "          val     train\n",
       "ALL  0.631667  0.647328\n",
       "1    0.728606  0.777237\n",
       "2    0.659155  0.669937\n",
       "3    0.589655  0.597330\n",
       "4    0.576754  0.576503"
      ]
     },
     "execution_count": 27,
     "metadata": {},
     "output_type": "execute_result"
    }
   ],
   "source": [
    "df_acc"
   ]
  },
  {
   "cell_type": "code",
   "execution_count": 37,
   "id": "820d8438",
   "metadata": {},
   "outputs": [
    {
     "data": {
      "text/html": [
       "<div>\n",
       "<style scoped>\n",
       "    .dataframe tbody tr th:only-of-type {\n",
       "        vertical-align: middle;\n",
       "    }\n",
       "\n",
       "    .dataframe tbody tr th {\n",
       "        vertical-align: top;\n",
       "    }\n",
       "\n",
       "    .dataframe thead th {\n",
       "        text-align: right;\n",
       "    }\n",
       "</style>\n",
       "<table border=\"1\" class=\"dataframe\">\n",
       "  <thead>\n",
       "    <tr style=\"text-align: right;\">\n",
       "      <th></th>\n",
       "      <th>val</th>\n",
       "      <th>train</th>\n",
       "    </tr>\n",
       "  </thead>\n",
       "  <tbody>\n",
       "    <tr>\n",
       "      <th>ALL</th>\n",
       "      <td>0.228438</td>\n",
       "      <td>0.224227</td>\n",
       "    </tr>\n",
       "    <tr>\n",
       "      <th>1</th>\n",
       "      <td>0.200645</td>\n",
       "      <td>0.179676</td>\n",
       "    </tr>\n",
       "    <tr>\n",
       "      <th>2</th>\n",
       "      <td>0.220087</td>\n",
       "      <td>0.223859</td>\n",
       "    </tr>\n",
       "    <tr>\n",
       "      <th>3</th>\n",
       "      <td>0.240853</td>\n",
       "      <td>0.240645</td>\n",
       "    </tr>\n",
       "    <tr>\n",
       "      <th>4</th>\n",
       "      <td>0.244076</td>\n",
       "      <td>0.243679</td>\n",
       "    </tr>\n",
       "  </tbody>\n",
       "</table>\n",
       "</div>"
      ],
      "text/plain": [
       "          val     train\n",
       "ALL  0.228438  0.224227\n",
       "1    0.200645  0.179676\n",
       "2    0.220087  0.223859\n",
       "3    0.240853  0.240645\n",
       "4    0.244076  0.243679"
      ]
     },
     "execution_count": 37,
     "metadata": {},
     "output_type": "execute_result"
    }
   ],
   "source": [
    "df_mse"
   ]
  },
  {
   "cell_type": "code",
   "execution_count": null,
   "id": "0a6d2ff1",
   "metadata": {},
   "outputs": [],
   "source": []
  }
 ],
 "metadata": {
  "kernelspec": {
   "display_name": "Python 3 (ipykernel)",
   "language": "python",
   "name": "python3"
  },
  "language_info": {
   "codemirror_mode": {
    "name": "ipython",
    "version": 3
   },
   "file_extension": ".py",
   "mimetype": "text/x-python",
   "name": "python",
   "nbconvert_exporter": "python",
   "pygments_lexer": "ipython3",
   "version": "3.8.10"
  }
 },
 "nbformat": 4,
 "nbformat_minor": 5
}
